{
 "cells": [
  {
   "cell_type": "markdown",
   "id": "15e85282",
   "metadata": {},
   "source": [
    "Write a Python function that accepts a string and calculate the number of upper case letters and lower case letters.\n",
    "Sample String : 'The quick Brow Fox'\n",
    "Expected Output :\n",
    "No. of Upper case characters : 3\n",
    "No. of Lower case Characters : 12"
   ]
  },
  {
   "cell_type": "code",
   "execution_count": 6,
   "id": "5f0f7c53",
   "metadata": {},
   "outputs": [],
   "source": [
    "def input_string(string):\n",
    "    lower=0\n",
    "    upper=0\n",
    "    for i in string:\n",
    "        if(i.islower()):\n",
    "             lower+=1\n",
    "        elif(i.isupper()):\n",
    "             upper+=1\n",
    "        else:\n",
    "            pass\n",
    "    print(\"No. of Upper case characters :\",upper)\n",
    "    print(\"No. of Lower case Characters :\",lower)"
   ]
  },
  {
   "cell_type": "code",
   "execution_count": 7,
   "id": "563a6e75",
   "metadata": {},
   "outputs": [
    {
     "name": "stdout",
     "output_type": "stream",
     "text": [
      "The quick Brow Fox\n",
      "No. of Upper case characters : 3\n",
      "No. of Lower case Characters : 12\n"
     ]
    }
   ],
   "source": [
    "string = input()\n",
    "input_string(string)"
   ]
  }
 ],
 "metadata": {
  "kernelspec": {
   "display_name": "Python 3 (ipykernel)",
   "language": "python",
   "name": "python3"
  },
  "language_info": {
   "codemirror_mode": {
    "name": "ipython",
    "version": 3
   },
   "file_extension": ".py",
   "mimetype": "text/x-python",
   "name": "python",
   "nbconvert_exporter": "python",
   "pygments_lexer": "ipython3",
   "version": "3.10.9"
  }
 },
 "nbformat": 4,
 "nbformat_minor": 5
}
