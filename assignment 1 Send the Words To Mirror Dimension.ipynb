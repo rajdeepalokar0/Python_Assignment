{
 "cells": [
  {
   "cell_type": "markdown",
   "id": "c5a7275e",
   "metadata": {},
   "source": [
    "### Send the Words To Mirror Dimension\n",
    "Write a Python program that accepts a word from the user and reverse it.\n",
    "\n",
    "Sample Test Case\n",
    "\n",
    "Input : Edyoda\n",
    "\n",
    "output: adoydE"
   ]
  },
  {
   "cell_type": "code",
   "execution_count": 1,
   "id": "bccc07f6",
   "metadata": {},
   "outputs": [
    {
     "name": "stdout",
     "output_type": "stream",
     "text": [
      "adoydE"
     ]
    }
   ],
   "source": [
    "input_lst = \"Edyoda\"\n",
    "for i in range(len(input_lst)-1,-1,-1):\n",
    "    print(input_lst[i],end = '')"
   ]
  }
 ],
 "metadata": {
  "kernelspec": {
   "display_name": "Python 3 (ipykernel)",
   "language": "python",
   "name": "python3"
  },
  "language_info": {
   "codemirror_mode": {
    "name": "ipython",
    "version": 3
   },
   "file_extension": ".py",
   "mimetype": "text/x-python",
   "name": "python",
   "nbconvert_exporter": "python",
   "pygments_lexer": "ipython3",
   "version": "3.10.9"
  }
 },
 "nbformat": 4,
 "nbformat_minor": 5
}
