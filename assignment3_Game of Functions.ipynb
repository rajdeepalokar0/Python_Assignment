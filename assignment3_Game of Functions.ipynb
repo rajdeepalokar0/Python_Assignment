{
 "cells": [
  {
   "cell_type": "markdown",
   "id": "a458cb94",
   "metadata": {},
   "source": [
    "Write a Python function to sum all the numbers in a list.\n",
    "Sample List : (8, 2, 3, 0, 7)\n",
    "Expected Output : 20"
   ]
  },
  {
   "cell_type": "code",
   "execution_count": 12,
   "id": "8e4af324",
   "metadata": {},
   "outputs": [],
   "source": [
    "def summation(input_list):     \n",
    "    sum1 = 0                   \n",
    "    for num in input_list:\n",
    "        sum1 = sum1 + num      \n",
    "    \n",
    "    return sum1 "
   ]
  },
  {
   "cell_type": "code",
   "execution_count": 13,
   "id": "18e00ca0",
   "metadata": {},
   "outputs": [
    {
     "name": "stdout",
     "output_type": "stream",
     "text": [
      "Enter a input :(8,2,3,0,7)\n"
     ]
    },
    {
     "data": {
      "text/plain": [
       "20"
      ]
     },
     "execution_count": 13,
     "metadata": {},
     "output_type": "execute_result"
    }
   ],
   "source": [
    "sample= eval(input(\"Enter a input :\"))\n",
    "summation(sample)"
   ]
  }
 ],
 "metadata": {
  "kernelspec": {
   "display_name": "Python 3 (ipykernel)",
   "language": "python",
   "name": "python3"
  },
  "language_info": {
   "codemirror_mode": {
    "name": "ipython",
    "version": 3
   },
   "file_extension": ".py",
   "mimetype": "text/x-python",
   "name": "python",
   "nbconvert_exporter": "python",
   "pygments_lexer": "ipython3",
   "version": "3.10.9"
  }
 },
 "nbformat": 4,
 "nbformat_minor": 5
}
