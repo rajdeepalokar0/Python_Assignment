{
 "cells": [
  {
   "cell_type": "code",
   "execution_count": null,
   "id": "ca672147",
   "metadata": {},
   "outputs": [],
   "source": [
    "Write a Python program to reverse a string.\n",
    "Sample String : \"1234abcd\"\n",
    "Expected Output : \"dcba4321\""
   ]
  },
  {
   "cell_type": "code",
   "execution_count": 15,
   "id": "8db47524",
   "metadata": {},
   "outputs": [],
   "source": [
    "def reverse_str(string_input):\n",
    "    output_string =string_input[: : -1] \n",
    "    return output_string"
   ]
  },
  {
   "cell_type": "code",
   "execution_count": 16,
   "id": "7b89b076",
   "metadata": {},
   "outputs": [
    {
     "name": "stdout",
     "output_type": "stream",
     "text": [
      "1234abcd\n"
     ]
    },
    {
     "data": {
      "text/plain": [
       "'dcba4321'"
      ]
     },
     "execution_count": 16,
     "metadata": {},
     "output_type": "execute_result"
    }
   ],
   "source": [
    "sample = input()\n",
    "reverse_str(sample)"
   ]
  }
 ],
 "metadata": {
  "kernelspec": {
   "display_name": "Python 3 (ipykernel)",
   "language": "python",
   "name": "python3"
  },
  "language_info": {
   "codemirror_mode": {
    "name": "ipython",
    "version": 3
   },
   "file_extension": ".py",
   "mimetype": "text/x-python",
   "name": "python",
   "nbconvert_exporter": "python",
   "pygments_lexer": "ipython3",
   "version": "3.10.9"
  }
 },
 "nbformat": 4,
 "nbformat_minor": 5
}
